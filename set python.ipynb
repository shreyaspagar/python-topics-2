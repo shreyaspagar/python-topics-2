{
 "cells": [
  {
   "cell_type": "code",
   "execution_count": 3,
   "id": "48be07ec-858a-42dd-80a3-298b9663e428",
   "metadata": {},
   "outputs": [
    {
     "data": {
      "text/plain": [
       "dict"
      ]
     },
     "execution_count": 3,
     "metadata": {},
     "output_type": "execute_result"
    }
   ],
   "source": [
    "s = {}\n",
    "type(s)"
   ]
  },
  {
   "cell_type": "code",
   "execution_count": 5,
   "id": "288024ab-ab1d-404d-b8fe-240419965087",
   "metadata": {},
   "outputs": [
    {
     "data": {
      "text/plain": [
       "{1, 2, 3, 4, 5, 6, 7, 8, 9, 'data', 'pwskills', 'shreyas', 'sonu'}"
      ]
     },
     "execution_count": 5,
     "metadata": {},
     "output_type": "execute_result"
    }
   ],
   "source": [
    "s1 = {1,2,3,4,5,6,7,8,9,4,5,6,6,\"sonu\",\"shreyas\",\"pwskills\",\"data\"}\n",
    "s1"
   ]
  },
  {
   "cell_type": "code",
   "execution_count": 7,
   "id": "9d90ad82-b8c8-457f-8739-8089b6d311e5",
   "metadata": {},
   "outputs": [
    {
     "data": {
      "text/plain": [
       "{'Sonu', 'sonu'}"
      ]
     },
     "execution_count": 7,
     "metadata": {},
     "output_type": "execute_result"
    }
   ],
   "source": [
    "s2 = {\"sonu\", \"Sonu\", \"sonu\"}\n",
    "s2"
   ]
  },
  {
   "cell_type": "code",
   "execution_count": 8,
   "id": "11856f00-46c5-40a6-beea-22e16d9227aa",
   "metadata": {},
   "outputs": [
    {
     "data": {
      "text/plain": [
       "{'Sonu', 'pwskills', 'sonu'}"
      ]
     },
     "execution_count": 8,
     "metadata": {},
     "output_type": "execute_result"
    }
   ],
   "source": [
    "s2.add(\"pwskills\")\n",
    "s2"
   ]
  },
  {
   "cell_type": "code",
   "execution_count": 9,
   "id": "b9cdd3f7-e2a3-4a95-8c09-1c4bc8623256",
   "metadata": {},
   "outputs": [
    {
     "data": {
      "text/plain": [
       "{(2, 3, 4, 5, 6), 'Sonu', 'pwskills', 'sonu'}"
      ]
     },
     "execution_count": 9,
     "metadata": {},
     "output_type": "execute_result"
    }
   ],
   "source": [
    "s2.add((2,3,4,5,6))\n",
    "s2"
   ]
  },
  {
   "cell_type": "code",
   "execution_count": 10,
   "id": "af0a3854-8cd7-4738-9cd6-de190f857601",
   "metadata": {},
   "outputs": [
    {
     "data": {
      "text/plain": [
       "set()"
      ]
     },
     "execution_count": 10,
     "metadata": {},
     "output_type": "execute_result"
    }
   ],
   "source": [
    "s2.clear()\n",
    "s2"
   ]
  },
  {
   "cell_type": "code",
   "execution_count": 11,
   "id": "2a5cab4c-5215-409a-a183-e2f9379a4719",
   "metadata": {},
   "outputs": [
    {
     "data": {
      "text/plain": [
       "{2, 3, 4, 5, 6, 7}"
      ]
     },
     "execution_count": 11,
     "metadata": {},
     "output_type": "execute_result"
    }
   ],
   "source": [
    "l = [2,3,4,5,2,3,4,4,5,2,3,4,5,6,7]\n",
    "set(l)"
   ]
  },
  {
   "cell_type": "code",
   "execution_count": 13,
   "id": "9a9afe70-b337-4481-b4b4-6c99c64958b2",
   "metadata": {},
   "outputs": [
    {
     "data": {
      "text/plain": [
       "(2, 3, 4, 5, 6, 7, 'sonu')"
      ]
     },
     "execution_count": 13,
     "metadata": {},
     "output_type": "execute_result"
    }
   ],
   "source": [
    "t = (2,3,4,5,2,3,3,4,5,6,7,\"sonu\")\n",
    "tuple(set(t))"
   ]
  },
  {
   "cell_type": "code",
   "execution_count": 14,
   "id": "9b546335-49f9-4c66-b177-bad2a937be5f",
   "metadata": {},
   "outputs": [
    {
     "data": {
      "text/plain": [
       "{1, 2, 3, 4, 5, 6, 7, 8, 9, 'data', 'pwskills', 'shreyas', 'sonu'}"
      ]
     },
     "execution_count": 14,
     "metadata": {},
     "output_type": "execute_result"
    }
   ],
   "source": [
    "s1"
   ]
  },
  {
   "cell_type": "code",
   "execution_count": 15,
   "id": "64d7cce8-3d9d-452c-a6c1-f80bcd04da53",
   "metadata": {},
   "outputs": [
    {
     "ename": "KeyError",
     "evalue": "34",
     "output_type": "error",
     "traceback": [
      "\u001b[0;31m---------------------------------------------------------------------------\u001b[0m",
      "\u001b[0;31mKeyError\u001b[0m                                  Traceback (most recent call last)",
      "Cell \u001b[0;32mIn[15], line 1\u001b[0m\n\u001b[0;32m----> 1\u001b[0m \u001b[43ms1\u001b[49m\u001b[38;5;241;43m.\u001b[39;49m\u001b[43mremove\u001b[49m\u001b[43m(\u001b[49m\u001b[38;5;241;43m34\u001b[39;49m\u001b[43m)\u001b[49m\n\u001b[1;32m      2\u001b[0m s1\n",
      "\u001b[0;31mKeyError\u001b[0m: 34"
     ]
    }
   ],
   "source": [
    "s1.remove(34)\n",
    "s1\n"
   ]
  },
  {
   "cell_type": "code",
   "execution_count": 16,
   "id": "1ca51897-1832-4393-a8bb-6d36f338dce6",
   "metadata": {},
   "outputs": [
    {
     "data": {
      "text/plain": [
       "{1, 2, 3, 4, 5, 6, 8, 9, 'data', 'pwskills', 'shreyas', 'sonu'}"
      ]
     },
     "execution_count": 16,
     "metadata": {},
     "output_type": "execute_result"
    }
   ],
   "source": [
    "s1.discard(7)\n",
    "s1"
   ]
  },
  {
   "cell_type": "code",
   "execution_count": 17,
   "id": "8dc34ffe-0485-4f75-88fc-9bfc4acd6cf6",
   "metadata": {},
   "outputs": [
    {
     "data": {
      "text/plain": [
       "{1, 2, 3, 4, 5, 6, 8, 9, 'data', 'pwskills', 'shreyas', 'sonu'}"
      ]
     },
     "execution_count": 17,
     "metadata": {},
     "output_type": "execute_result"
    }
   ],
   "source": [
    "s1.discard(100)\n",
    "s1"
   ]
  },
  {
   "cell_type": "code",
   "execution_count": 18,
   "id": "1f97fe69-861c-4f17-8d8d-60ff8049d3d5",
   "metadata": {},
   "outputs": [
    {
     "data": {
      "text/plain": [
       "1"
      ]
     },
     "execution_count": 18,
     "metadata": {},
     "output_type": "execute_result"
    }
   ],
   "source": [
    "s1.pop()\n"
   ]
  },
  {
   "cell_type": "code",
   "execution_count": 19,
   "id": "f8d04698-9dbb-46c0-bbd8-c6c6d9338d76",
   "metadata": {},
   "outputs": [
    {
     "data": {
      "text/plain": [
       "2"
      ]
     },
     "execution_count": 19,
     "metadata": {},
     "output_type": "execute_result"
    }
   ],
   "source": [
    "s1.pop()"
   ]
  },
  {
   "cell_type": "code",
   "execution_count": 20,
   "id": "1b7c92cd-5081-4a90-a8b5-db2763b470f1",
   "metadata": {},
   "outputs": [
    {
     "data": {
      "text/plain": [
       "{3, 4, 5, 6, 8, 9, 'data', 'pwskills', 'shreyas', 'sonu'}"
      ]
     },
     "execution_count": 20,
     "metadata": {},
     "output_type": "execute_result"
    }
   ],
   "source": [
    "s1"
   ]
  },
  {
   "cell_type": "code",
   "execution_count": null,
   "id": "08a5e872-4737-464c-8c94-683c5219cd86",
   "metadata": {},
   "outputs": [],
   "source": []
  }
 ],
 "metadata": {
  "kernelspec": {
   "display_name": "Python 3 (ipykernel)",
   "language": "python",
   "name": "python3"
  },
  "language_info": {
   "codemirror_mode": {
    "name": "ipython",
    "version": 3
   },
   "file_extension": ".py",
   "mimetype": "text/x-python",
   "name": "python",
   "nbconvert_exporter": "python",
   "pygments_lexer": "ipython3",
   "version": "3.10.8"
  }
 },
 "nbformat": 4,
 "nbformat_minor": 5
}
